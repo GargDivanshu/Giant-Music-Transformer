{
  "cells": [
    {
      "cell_type": "markdown",
      "metadata": {
        "gradient": {
          "editing": false,
          "id": "ac5a4cf0-d9d2-47b5-9633-b53f8d99a4d2",
          "kernelId": ""
        },
        "id": "SiTIpPjArIyr"
      },
      "source": [
        "# Giant Music Transformer Training Dataset Maker (ver. 1.0)\n",
        "\n",
        "***\n",
        "\n",
        "Powered by tegridy-tools: https://github.com/asigalov61/tegridy-tools\n",
        "\n",
        "***\n",
        "\n",
        "#### Project Los Angeles\n",
        "\n",
        "#### Tegridy Code 2023\n",
        "\n",
        "***"
      ]
    },
    {
      "cell_type": "markdown",
      "metadata": {
        "gradient": {
          "editing": false,
          "id": "fa0a611c-1803-42ae-bdf6-a49b5a4e781b",
          "kernelId": ""
        },
        "id": "gOd93yV0sGd2"
      },
      "source": [
        "# (SETUP ENVIRONMENT)"
      ]
    },
    {
      "cell_type": "code",
      "execution_count": null,
      "metadata": {
        "cellView": "form",
        "gradient": {
          "editing": false,
          "id": "a1a45a91-d909-4fd4-b67a-5e16b971d179",
          "kernelId": ""
        },
        "id": "fX12Yquyuihc"
      },
      "outputs": [],
      "source": [
        "#@title Install all dependencies (run only once per session)\n",
        "\n",
        "!git clone https://github.com/asigalov61/tegridy-tools\n",
        "!pip install tqdm"
      ]
    },
    {
      "cell_type": "code",
      "execution_count": null,
      "metadata": {
        "cellView": "form",
        "gradient": {
          "editing": false,
          "id": "b8207b76-9514-4c07-95db-95a4742e52c5",
          "kernelId": ""
        },
        "id": "z7n9vnKmug1J"
      },
      "outputs": [],
      "source": [
        "#@title Import all needed modules\n",
        "\n",
        "print('Loading needed modules. Please wait...')\n",
        "import os\n",
        "import copy\n",
        "import math\n",
        "import statistics\n",
        "import random\n",
        "\n",
        "from joblib import Parallel, delayed, parallel_config\n",
        "\n",
        "from tqdm import tqdm\n",
        "\n",
        "if not os.path.exists('/content/Dataset'):\n",
        "    os.makedirs('/content/Dataset')\n",
        "\n",
        "print('Loading TMIDIX module...')\n",
        "os.chdir('/content/tegridy-tools/tegridy-tools')\n",
        "\n",
        "import TMIDIX\n",
        "\n",
        "print('Done!')\n",
        "\n",
        "os.chdir('/content/')\n",
        "print('Enjoy! :)')"
      ]
    },
    {
      "cell_type": "markdown",
      "metadata": {
        "gradient": {
          "editing": false,
          "id": "20b8698a-0b4e-4fdb-ae49-24d063782e77",
          "kernelId": ""
        },
        "id": "ObPxlEutsQBj"
      },
      "source": [
        "# (DOWNLOAD SOURCE MIDI DATASET)"
      ]
    },
    {
      "cell_type": "code",
      "source": [
        "#@title Download original LAKH MIDI Dataset\n",
        "\n",
        "%cd /content/Dataset/\n",
        "\n",
        "!wget 'http://hog.ee.columbia.edu/craffel/lmd/lmd_full.tar.gz'\n",
        "!tar -xvf 'lmd_full.tar.gz'\n",
        "!rm 'lmd_full.tar.gz'\n",
        "\n",
        "%cd /content/"
      ],
      "metadata": {
        "cellView": "form",
        "id": "7aItlhq9cRxZ"
      },
      "execution_count": null,
      "outputs": []
    },
    {
      "cell_type": "code",
      "execution_count": null,
      "metadata": {
        "cellView": "form",
        "id": "S69mWHAcn5Bg"
      },
      "outputs": [],
      "source": [
        "#@title Mount Google Drive\n",
        "from google.colab import drive\n",
        "drive.mount('/content/drive')"
      ]
    },
    {
      "cell_type": "markdown",
      "metadata": {
        "id": "JwrqQeie08t0"
      },
      "source": [
        "# (FILE LIST)"
      ]
    },
    {
      "cell_type": "code",
      "execution_count": null,
      "metadata": {
        "cellView": "form",
        "id": "DuVWtdDNcqKh"
      },
      "outputs": [],
      "source": [
        "#@title Save file list\n",
        "###########\n",
        "\n",
        "print('Loading MIDI files...')\n",
        "print('This may take a while on a large dataset in particular.')\n",
        "\n",
        "dataset_addr = \"/content/Dataset\"\n",
        "# os.chdir(dataset_addr)\n",
        "filez = list()\n",
        "for (dirpath, dirnames, filenames) in os.walk(dataset_addr):\n",
        "    filez += [os.path.join(dirpath, file) for file in filenames]\n",
        "print('=' * 70)\n",
        "\n",
        "if filez == []:\n",
        "    print('Could not find any MIDI files. Please check Dataset dir...')\n",
        "    print('=' * 70)\n",
        "\n",
        "print('Randomizing file list...')\n",
        "random.shuffle(filez)\n",
        "\n",
        "TMIDIX.Tegridy_Any_Pickle_File_Writer(filez, '/content/drive/MyDrive/filez')"
      ]
    },
    {
      "cell_type": "code",
      "execution_count": null,
      "metadata": {
        "cellView": "form",
        "id": "qI_adhjojrJ9"
      },
      "outputs": [],
      "source": [
        "#@title Load file list\n",
        "filez = TMIDIX.Tegridy_Any_Pickle_File_Reader('/content/drive/MyDrive/filez')"
      ]
    },
    {
      "cell_type": "markdown",
      "source": [
        "# (LOAD TMIDIX MIDI PROCESSOR)"
      ],
      "metadata": {
        "id": "xJWEVeeP5WzW"
      }
    },
    {
      "cell_type": "code",
      "source": [
        "# @title Load TMIDIX MIDI Processor\n",
        "\n",
        "def TMIDIX_MIDI_Processor(midi_file):\n",
        "\n",
        "    melody_chords = []\n",
        "    melody_chords_aug = []\n",
        "\n",
        "    try:\n",
        "\n",
        "        fn = os.path.basename(midi_file)\n",
        "\n",
        "        # Filtering out GIANT4 MIDIs\n",
        "        file_size = os.path.getsize(midi_file)\n",
        "\n",
        "        if file_size <= 1000000:\n",
        "\n",
        "          #=======================================================\n",
        "          # START PROCESSING\n",
        "\n",
        "          # Convering MIDI to ms score with MIDI.py module\n",
        "          score = TMIDIX.midi2single_track_ms_score(open(midi_file, 'rb').read(), recalculate_channels=False)\n",
        "\n",
        "          # INSTRUMENTS CONVERSION CYCLE\n",
        "          events_matrix = []\n",
        "          itrack = 1\n",
        "          patches = [0, 0, 0, 0, 0, 0, 0, 0, 0, 0, 0, 0, 0, 0, 0, 0]\n",
        "\n",
        "          while itrack < len(score):\n",
        "              for event in score[itrack]:\n",
        "                  if event[0] == 'note' or event[0] == 'patch_change':\n",
        "                      events_matrix.append(event)\n",
        "              itrack += 1\n",
        "\n",
        "          events_matrix.sort(key=lambda x: x[1])\n",
        "\n",
        "          events_matrix1 = []\n",
        "\n",
        "          for event in events_matrix:\n",
        "                  if event[0] == 'patch_change':\n",
        "                        patches[event[2]] = event[3]\n",
        "\n",
        "                  if event[0] == 'note':\n",
        "                        event.extend([patches[event[3]]])\n",
        "\n",
        "                        if events_matrix1:\n",
        "                            if (event[1] == events_matrix1[-1][1]):\n",
        "                                if ([event[3], event[4]] != events_matrix1[-1][3:5]):\n",
        "                                    events_matrix1.append(event)\n",
        "                            else:\n",
        "                                events_matrix1.append(event)\n",
        "\n",
        "                        else:\n",
        "                            events_matrix1.append(event)\n",
        "\n",
        "        if len(events_matrix1) > 0:\n",
        "            if min([e[1] for e in events_matrix1]) >= 0 and min([e[2] for e in events_matrix1]) >= 0:\n",
        "\n",
        "                #=======================================================\n",
        "                # PRE-PROCESSING\n",
        "\n",
        "                # checking number of instruments in a composition\n",
        "                instruments_list_without_drums = list(set([y[3] for y in events_matrix1 if y[3] != 9]))\n",
        "                instruments_list = list(set([y[3] for y in events_matrix1]))\n",
        "\n",
        "                if len(events_matrix1) > 0 and len(instruments_list_without_drums) > 0:\n",
        "\n",
        "                    #======================================\n",
        "\n",
        "                    events_matrix2 = []\n",
        "\n",
        "                    # Recalculating timings\n",
        "                    for e in events_matrix1:\n",
        "\n",
        "                        # Original timings\n",
        "                        e[1] = int(e[1] / 16)\n",
        "                        e[2] = int(e[2] / 16)\n",
        "\n",
        "                    #===================================\n",
        "                    # ORIGINAL COMPOSITION\n",
        "                    #===================================\n",
        "\n",
        "                    # Sorting by patch, pitch, then by start-time\n",
        "\n",
        "                    events_matrix1.sort(key=lambda x: x[6])\n",
        "                    events_matrix1.sort(key=lambda x: x[4], reverse=True)\n",
        "                    events_matrix1.sort(key=lambda x: x[1])\n",
        "\n",
        "                    #=======================================================\n",
        "                    # FINAL PROCESSING\n",
        "\n",
        "                    melody_chords = []\n",
        "\n",
        "                    # Break between compositions / Intro seq\n",
        "\n",
        "                    if 9 in instruments_list:\n",
        "                        drums_present = 19331 # Yes\n",
        "                    else:\n",
        "                        drums_present = 19330 # No\n",
        "\n",
        "                    if events_matrix1[0][3] != 9:\n",
        "                        pat = events_matrix1[0][6]\n",
        "                    else:\n",
        "                        pat = 128\n",
        "\n",
        "                    melody_chords.extend([19461, drums_present, 19332+pat]) # Intro seq\n",
        "\n",
        "                    #=======================================================\n",
        "                    # MAIN PROCESSING CYCLE\n",
        "                    #=======================================================\n",
        "\n",
        "                    abs_time = 0\n",
        "\n",
        "                    pbar_time = 0\n",
        "\n",
        "                    pe = events_matrix1[0]\n",
        "\n",
        "                    chords_counter = 1\n",
        "\n",
        "                    comp_chords_len = len(list(set([y[1] for y in events_matrix1])))\n",
        "\n",
        "                    for e in events_matrix1:\n",
        "\n",
        "                        #=======================================================\n",
        "                        # Timings...\n",
        "\n",
        "                        # Cliping all values...\n",
        "                        delta_time = max(0, min(255, e[1]-pe[1]))\n",
        "\n",
        "                        # Durations and channels\n",
        "\n",
        "                        dur = max(0, min(255, e[2]))\n",
        "                        cha = max(0, min(15, e[3]))\n",
        "\n",
        "                        # Patches\n",
        "                        if cha == 9: # Drums patch will be == 128\n",
        "                            pat = 128\n",
        "\n",
        "                        else:\n",
        "                            pat = e[6]\n",
        "\n",
        "                        # Pitches\n",
        "\n",
        "                        ptc = max(1, min(127, e[4]))\n",
        "\n",
        "                        # Velocities\n",
        "\n",
        "                        # Calculating octo-velocity\n",
        "                        vel = max(8, min(127, e[5]))\n",
        "                        velocity = round(vel / 15)-1\n",
        "\n",
        "                        #=======================================================\n",
        "                        # Outro seq\n",
        "\n",
        "                        if ((comp_chords_len - chords_counter) == 50) and (delta_time != 0):\n",
        "                            out_t = 18946+delta_time\n",
        "                            out_p = 19202+ptc\n",
        "                            melody_chords.extend([18945, out_t, out_p]) # outro seq\n",
        "\n",
        "                        if delta_time != 0:\n",
        "                            chords_counter += 1\n",
        "\n",
        "                        #=======================================================\n",
        "                        # FINAL NOTE SEQ\n",
        "\n",
        "                        # Writing final note asynchronously\n",
        "\n",
        "                        dur_vel = (8 * dur) + velocity\n",
        "                        pat_ptc = (129 * pat) + ptc\n",
        "\n",
        "                        melody_chords.extend([delta_time, dur_vel+256, pat_ptc+2304])\n",
        "\n",
        "                        pe = e\n",
        "\n",
        "                        #=======================================================\n",
        "\n",
        "                    melody_chords.extend([19462, 19462, 19462]) # EOS\n",
        "\n",
        "                    #=======================================================\n",
        "\n",
        "                    # TOTAL DICTIONARY SIZE 19462+1=19463\n",
        "\n",
        "                    #=======================================================\n",
        "\n",
        "                    return melody_chords\n",
        "\n",
        "    except:\n",
        "        return None"
      ],
      "metadata": {
        "cellView": "form",
        "id": "brC9ZC7_5Wab"
      },
      "execution_count": null,
      "outputs": []
    },
    {
      "cell_type": "markdown",
      "metadata": {
        "id": "FLxHvO-wlwfU"
      },
      "source": [
        "# (PROCESS)"
      ]
    },
    {
      "cell_type": "code",
      "source": [
        "#@title Process MIDIs with TMIDIX MIDI processor\n",
        "\n",
        "NUMBER_OF_PARALLEL_JOBS = 4 # Number of parallel jobs\n",
        "NUMBER_OF_FILES_PER_ITERATION = 16 # Number of files to queue for each parallel iteration\n",
        "SAVE_EVERY_NUMBER_OF_ITERATIONS = 160 # Save every 2560 files\n",
        "\n",
        "print('=' * 70)\n",
        "print('TMIDIX MIDI Processor')\n",
        "print('=' * 70)\n",
        "print('Starting up...')\n",
        "print('=' * 70)\n",
        "\n",
        "###########\n",
        "\n",
        "melody_chords_f = []\n",
        "\n",
        "files_count = 0\n",
        "\n",
        "print('Processing MIDI files. Please wait...')\n",
        "print('=' * 70)\n",
        "\n",
        "for i in tqdm(range(0, len(filez), NUMBER_OF_FILES_PER_ITERATION)):\n",
        "\n",
        "  with parallel_config(backend='threading', n_jobs=NUMBER_OF_PARALLEL_JOBS, verbose = 0):\n",
        "\n",
        "    output = Parallel(n_jobs=NUMBER_OF_PARALLEL_JOBS, verbose=0)(delayed(TMIDIX_MIDI_Processor)(f) for f in filez[i:i+NUMBER_OF_FILES_PER_ITERATION])\n",
        "\n",
        "    for o in output:\n",
        "\n",
        "        if o is not None:\n",
        "            melody_chords_f.append(o)\n",
        "\n",
        "    files_count += len(melody_chords_f)\n",
        "\n",
        "    # Saving every 2560 processed files\n",
        "    if i % (NUMBER_OF_FILES_PER_ITERATION * SAVE_EVERY_NUMBER_OF_ITERATIONS) == 0 and i != 0:\n",
        "        print('SAVING !!!')\n",
        "        print('=' * 70)\n",
        "        print('Saving processed files...')\n",
        "        print('=' * 70)\n",
        "        print('Data check:', min(melody_chords_f[0]), '===', max(melody_chords_f[0]), '===', len(list(set(melody_chords_f[0]))), '===', len(melody_chords_f[0]))\n",
        "        print('=' * 70)\n",
        "        print('Processed so far:', files_count, 'out of', len(filez), '===', files_count / len(filez), 'good files ratio')\n",
        "        print('=' * 70)\n",
        "        count = str(files_count)\n",
        "        TMIDIX.Tegridy_Any_Pickle_File_Writer(melody_chords_f, '/content/drive/MyDrive/LAKH_INTs_'+count)\n",
        "        melody_chords_f = []\n",
        "\n",
        "        print('=' * 70)\n",
        "\n",
        "print('SAVING !!!')\n",
        "print('=' * 70)\n",
        "print('Saving processed files...')\n",
        "print('=' * 70)\n",
        "print('Data check:', min(melody_chords_f[0]), '===', max(melody_chords_f[0]), '===', len(list(set(melody_chords_f[0]))), '===', len(melody_chords_f[0]))\n",
        "print('=' * 70)\n",
        "print('Processed so far:', files_count, 'out of', len(filez), '===', files_count / len(filez), 'good files ratio')\n",
        "print('=' * 70)\n",
        "count = str(files_count)\n",
        "TMIDIX.Tegridy_Any_Pickle_File_Writer(melody_chords_f, '/content/drive/MyDrive/LAKH_INTs_'+count)\n",
        "\n",
        "print('=' * 70)"
      ],
      "metadata": {
        "cellView": "form",
        "id": "lvaxDmV9504y"
      },
      "execution_count": null,
      "outputs": []
    },
    {
      "cell_type": "markdown",
      "metadata": {
        "id": "-ye9rNzOHX90"
      },
      "source": [
        "# (TEST INTS)"
      ]
    },
    {
      "cell_type": "code",
      "execution_count": null,
      "metadata": {
        "cellView": "form",
        "id": "zppMJ8gA3L4K"
      },
      "outputs": [],
      "source": [
        "#@title Test INTs\n",
        "\n",
        "train_data1 = random.choice(melody_chords_f)\n",
        "\n",
        "print('Sample INTs', train_data1[:15])\n",
        "\n",
        "out = train_data1\n",
        "\n",
        "if len(out) != 0:\n",
        "\n",
        "    song = out\n",
        "    song_f = []\n",
        "\n",
        "    time = 0\n",
        "    dur = 0\n",
        "    vel = 90\n",
        "    pitch = 0\n",
        "    channel = 0\n",
        "\n",
        "    patches = [-1] * 16\n",
        "\n",
        "    channels = [0] * 16\n",
        "    channels[9] = 1\n",
        "\n",
        "    for ss in song:\n",
        "\n",
        "        if 0 <= ss < 256:\n",
        "\n",
        "            time += ss * 16\n",
        "\n",
        "        if 256 <= ss < 2304:\n",
        "\n",
        "            dur = ((ss-256) // 8) * 16\n",
        "            vel = (((ss-256) % 8)+1) * 15\n",
        "\n",
        "        if 2304 <= ss < 18945:\n",
        "\n",
        "            patch = (ss-2304) // 129\n",
        "\n",
        "            if patch < 128:\n",
        "\n",
        "                if patch not in patches:\n",
        "                  if 0 in channels:\n",
        "                      cha = channels.index(0)\n",
        "                      channels[cha] = 1\n",
        "                  else:\n",
        "                      cha = 15\n",
        "\n",
        "                  patches[cha] = patch\n",
        "                  channel = patches.index(patch)\n",
        "                else:\n",
        "                  channel = patches.index(patch)\n",
        "\n",
        "            if patch == 128:\n",
        "                channel = 9\n",
        "\n",
        "            pitch = (ss-2304) % 129\n",
        "\n",
        "            song_f.append(['note', time, dur, channel, pitch, vel ])\n",
        "\n",
        "patches = [0 if x==-1 else x for x in patches]\n",
        "\n",
        "detailed_stats = TMIDIX.Tegridy_ms_SONG_to_MIDI_Converter(song_f,\n",
        "                                                          output_signature = 'Giant Music Transformer',\n",
        "                                                          output_file_name = '/content/Giant-Music-Transformer-Composition',\n",
        "                                                          track_name='Project Los Angeles',\n",
        "                                                          list_of_MIDI_patches=patches\n",
        "                                                          )\n",
        "\n",
        "print('Done!')"
      ]
    },
    {
      "cell_type": "markdown",
      "metadata": {
        "id": "YzCMd94Tu_gz"
      },
      "source": [
        "# Congrats! You did it! :)"
      ]
    }
  ],
  "metadata": {
    "colab": {
      "machine_shape": "hm",
      "private_outputs": true,
      "provenance": []
    },
    "gpuClass": "standard",
    "kernelspec": {
      "display_name": "Python 3 (ipykernel)",
      "language": "python",
      "name": "python3"
    },
    "language_info": {
      "codemirror_mode": {
        "name": "ipython",
        "version": 3
      },
      "file_extension": ".py",
      "mimetype": "text/x-python",
      "name": "python",
      "nbconvert_exporter": "python",
      "pygments_lexer": "ipython3",
      "version": "3.9.7"
    }
  },
  "nbformat": 4,
  "nbformat_minor": 0
}